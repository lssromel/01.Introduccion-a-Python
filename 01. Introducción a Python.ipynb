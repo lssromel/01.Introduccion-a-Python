{
 "cells": [
  {
   "cell_type": "markdown",
   "id": "6e812a46-48ef-465f-8dfe-3ed6cb37c087",
   "metadata": {},
   "source": [
    "# <center> 01. Introducción a Python </center>"
   ]
  },
  {
   "cell_type": "markdown",
   "id": "4f385e16-bc42-4a77-8f3b-0bd078141284",
   "metadata": {},
   "source": [
    "<div style=\"display: block;\n",
    "  margin-left: auto;\n",
    "  margin-right: auto;\n",
    "  width: 50%; height: 50%;\">\r\n",
    "   <img src=\"img/python-logo-generic.svg\" alt=\"Paris\" class=\"center\">v></div>"
   ]
  },
  {
   "cell_type": "markdown",
   "id": "330f075c-dcb7-4e9c-8f93-b7b76f6c0c53",
   "metadata": {},
   "source": [
    "## 1. Python y su historia"
   ]
  },
  {
   "cell_type": "markdown",
   "id": "44cdfcb4-27f3-4d97-ada6-ee0c51b43b9a",
   "metadata": {},
   "source": [
    "Python es un lenguaje de programación de alto nivel ampliamente utilizado en todo el mundo debido a su simplicidad y versatilidad. Fue creado por Guido van Rossum y lanzado por primera vez en 1991. Aquí tienes una introducción a Python y su historia:\n",
    "\n",
    "**Historia:**\n",
    "\n",
    " - Python fue concebido a finales de los años 80 por Guido van Rossum, un programador holandés. Guido quería crear un lenguaje de programación que fuera fácil de leer y escribir, con una sintaxis clara y legible.\n",
    "\n",
    " - La primera versión de Python, Python 0.9.0, se publicó en febrero de 1991. A lo largo de los años, Python ha experimentado múltiples versiones, mejoras y expansiones de su biblioteca estándar.\n",
    "\n",
    " - Python se llama así en honor a los comediantes británicos Monty Python, cuyo trabajo Guido van Rossum disfrutaba. Esta elección de nombre ejemplifica el enfoque del lenguaje en la legibilidad y el sentido del humor.\n",
    "\n",
    "**Características clave:**\n",
    "\n",
    " - Python es conocido por su sintaxis clara y legible, lo que facilita la escritura de código limpio y comprensible. Esto ha contribuido a que Python sea un lenguaje popular para principiantes.\n",
    "\n",
    " - Python es un lenguaje de programación multiparadigma, lo que significa que admite programación orientada a objetos, programación imperativa y programación funcional. Esto lo hace versátil y adecuado para una amplia variedad de aplicaciones.\n",
    "\n",
    " - Python es de código abierto y tiene una comunidad activa de desarrolladores que contribuyen a su desarrollo y mantienen una amplia variedad de bibliotecas y módulos que extienden sus capacidades. El repositorio principal de módulos se llama el \"Python Package Index\" (PyPI).\n",
    "\n",
    "**Aplicaciones:**\n",
    "\n",
    " - Python se utiliza en una amplia gama de aplicaciones, que incluyen:\n",
    "\n",
    " - Desarrollo web: Python es muy utilizado en el desarrollo web, con marcos populares como Django y Flask.\n",
    "\n",
    " - Ciencia de datos y análisis: Python es una opción líder para la ciencia de datos y el análisis de datos, con bibliotecas como NumPy, Pandas y Matplotlib.\n",
    "\n",
    " - Inteligencia artificial y aprendizaje automático: Python es ampliamente utilizado en la creación de modelos de aprendizaje automático y redes neuronales, con bibliotecas como TensorFlow y PyTorch.\n",
    "\n",
    " - Automatización y scripting: Python es una excelente opción para escribir scripts y automatizar tareas.\n",
    "\n",
    " - Desarrollo de videojuegos: Python se utiliza en la creación de videojuegos, con bibliotecas como Pygame.\n",
    "\n",
    "En resumen, Python es un lenguaje de programación poderoso y versátil con una historia rica y una comunidad activa. Su énfasis en la legibilidad, junto con una amplia gama de bibliotecas y aplicaciones, lo convierten en una elección popular para desarrolladores en diversos campos."
   ]
  },
  {
   "cell_type": "markdown",
   "id": "4427aad0-f812-4ecd-93bd-f31edada030c",
   "metadata": {},
   "source": [
    "## 2. Instalación de Python y Jupyter Notebook\n",
    "\n",
    "### 2.1 Instalación de Python\n",
    "\n",
    "Sigue estos pasos:"
   ]
  },
  {
   "cell_type": "markdown",
   "id": "c6daaafd-ef75-48a4-a958-04366a503820",
   "metadata": {},
   "source": [
    "1. Accede a la página web de Python en [https://www.python.org/](https://www.python.org/).\r\n",
    "\r\n",
    "2. En la página principal de Python, haz clic en el botón \"Downloads\" o \"Descargas\" para ir a la página de descargas.\r\n",
    "\r\n",
    "3. Elige la versión de Python que desees instalar. Generalmente, se recomienda descargar la última versión estable. Asegúrate de seleccionar la versión adecuada para tu sistema operativo (Windows, macOS, Linux, etc.). Puedes hacer clic en el enlace correspondiente.\r\n",
    "\r\n",
    "4. Descarga el instalador haciendo clic en el enlace proporcionado para tu sistema operativo.\r\n",
    "\r\n",
    "5. Una vez que se haya descargado el instalador, ejecútalo haciendo doble clic en el archivo descargado.\r\n",
    "\r\n",
    "6. Sigue las instrucciones en pantalla para configurar la instalación. Asegúrate de marcar la casilla que dice \"Add Python X.X to PATH\" (donde \"X.X\" es la versión de Python que estás instalando). Esto facilitará el acceso a Python desde la línea de comandos.\r\n",
    "\r\n",
    "7. Continúa con el proceso de instalación siguiendo las instrucciones en pantalla. Python se instalará en tu sistema.\r\n",
    "\r\n",
    "8. Después de completar la instalación, verifica que Python se ha instalado correctamente abriendo una ventana de línea de comandos y escribiendo `python --version`. Deberías ver la versión de Python recién instalada.\r\n",
    "\r\n",
    "¡Listo! Ahora tienes Python instalado en tu sistema desde el sitio web oficial de Python. Puedes comenzar a escribir y ejecutar programas en Python en tu computadora.\r\n"
   ]
  },
  {
   "cell_type": "markdown",
   "id": "e30cf61a-3dad-48a3-8f13-f31c75a12481",
   "metadata": {},
   "source": [
    "### 2.2 Instalación de Jupyter Notebook"
   ]
  },
  {
   "cell_type": "markdown",
   "id": "7fb55107-9798-4106-b8f2-489b8ef13a95",
   "metadata": {},
   "source": [
    "Si ya tienes Python instalado en tu sistema, instalar Jupyter Notebook es un proceso relativamente sencillo, ya que Jupyter Notebook se integra bien con Python. Aquí tienes los pasos para instalar Jupyter Notebook si ya tienes Python instalado:\n",
    "\n",
    "1. **Abre una ventana de línea de comandos**:\n",
    "   Abre una ventana de línea de comandos en tu sistema. En Windows, puedes usar el \"Símbolo del sistema\" o PowerShell. En macOS o Linux, utiliza la Terminal.\n",
    "\n",
    "2. **Actualiza `pip`** (el gestor de paquetes de Python):\n",
    "   Asegúrate de que `pip` esté actualizado a la última versión ejecutando el siguiente comando:\n",
    "\n",
    "   ```\n",
    "   pip install --upgrade pip\n",
    "   ```\n",
    "\n",
    "3. **Instala Jupyter Notebook**:\n",
    "   Utiliza `pip` para instalar Jupyter Notebook. Ejecuta el siguiente comando:\n",
    "\n",
    "   ```\n",
    "   pip install jupyter\n",
    "   ```\n",
    "\n",
    "4. **Verifica la instalación**:\n",
    "   Para asegurarte de que Jupyter Notebook se ha instalado correctamente, ejecuta el siguiente comando:\n",
    "\n",
    "   ```\n",
    "   jupyter notebook\n",
    "   ```\n",
    "\n",
    "   Esto abrirá una nueva pestaña en tu navegador web con la interfaz de Jupyter Notebook. Puedes crear y ejecutar notebooks desde aquí.\n",
    "\n",
    "5. **Utiliza Jupyter Notebook**:\n",
    "   Ahora que Jupyter Notebook está instalado, puedes crear nuevos notebooks, escribir código en Python y realizar análisis de datos. Jupyter es una herramienta muy poderosa para la programación interactiva y el análisis de datos.\n",
    "\n",
    "Recuerda que puedes detener el servidor de Jupyter Notebook en la ventana de línea de comandos presionando `Ctrl+C`.\n",
    "\n",
    "Con estos pasos, deberías tener Jupyter Notebook instalado y listo para su uso junto con tu instalación existente de Python."
   ]
  },
  {
   "cell_type": "markdown",
   "id": "0f4fb457-ca70-4b39-b35f-b6a7e0347f21",
   "metadata": {},
   "source": [
    "## 3. Primer Programa en Python con Jupyter Notebook"
   ]
  },
  {
   "cell_type": "markdown",
   "id": "72ab3a28-a4db-4b7d-ab18-eb2b46dac990",
   "metadata": {},
   "source": [
    "Para imprimir \"Hola, mundo\" en un Jupyter Notebook, puedes usar una celda de código. Sigue estos pasos:\n",
    "\n",
    "1. Abre Jupyter Notebook en tu navegador.\n",
    "\n",
    "2. Crea un nuevo notebook o abre uno existente.\n",
    "\n",
    "3. En una celda de código, escribe el siguiente código:\n",
    "\n",
    "```python\n",
    "print(\"Hola, mundo\")\n",
    "```\n",
    "\n",
    "4. Ejecuta la celda de código. Puedes hacerlo de varias formas:\n",
    "   - Haciendo clic en el botón \"Run\" en la barra de herramientas de Jupyter Notebook.\n",
    "   - Presionando Shift + Enter cuando la celda está seleccionada.\n",
    "   - Seleccionando \"Run\" en el menú del notebook.\n",
    "\n",
    "Después de ejecutar la celda, verás la salida \"Hola, mundo\" debajo de la celda de código. ¡Eso es todo! Has impreso \"Hola, mundo\" en un Jupyter Notebook."
   ]
  },
  {
   "cell_type": "markdown",
   "id": "98ffb9ec-0754-4d93-90fe-4a28b9784508",
   "metadata": {},
   "source": [
    "Ejemplo"
   ]
  },
  {
   "cell_type": "code",
   "execution_count": 1,
   "id": "2b6faa39-c614-44b1-a938-6b16a19d44ce",
   "metadata": {},
   "outputs": [
    {
     "name": "stdout",
     "output_type": "stream",
     "text": [
      "Hola, mundo\n"
     ]
    }
   ],
   "source": [
    "print(\"Hola, mundo\")"
   ]
  },
  {
   "cell_type": "markdown",
   "id": "2e007056-9fca-486a-bcb7-2615c71910b5",
   "metadata": {},
   "source": [
    "## 4. Variables y tipos de datos básicos"
   ]
  },
  {
   "cell_type": "markdown",
   "id": "3db0c621-f247-4b0e-a0dc-00cea052d6f6",
   "metadata": {},
   "source": [
    "Python es un lenguaje de programación que es conocido por su simplicidad y facilidad de uso, y ofrece una serie de tipos de datos básicos. A continuación, te presento algunos de los tipos de datos más comunes y cómo declarar variables en Python:\n",
    "\n",
    "1. **Enteros (int)**: Los enteros representan números enteros. Puedes declarar una variable entera de la siguiente manera:\n",
    "\n",
    "   ```python\n",
    "   edad = 30\n",
    "   ```\n",
    "\n",
    "2. **Números de punto flotante (float)**: Los números de punto flotante representan números decimales. Puedes declarar una variable de punto flotante de esta manera:\n",
    "\n",
    "   ```python\n",
    "   altura = 1.75\n",
    "   ```\n",
    "\n",
    "3. **Cadenas de texto (str)**: Las cadenas de texto representan secuencias de caracteres. Puedes declarar una variable de cadena de texto de la siguiente manera:\n",
    "\n",
    "   ```python\n",
    "   nombre = \"Juan\"\n",
    "   ```\n",
    "\n",
    "4. **Booleanos (bool)**: Los valores booleanos representan verdadero (`True`) o falso (`False`). Puedes declarar una variable booleana de esta manera:\n",
    "\n",
    "   ```python\n",
    "   es_mayor_de_edad = True\n",
    "   ```\n",
    "\n",
    "5. **Listas**: Las listas son colecciones ordenadas de elementos, y pueden contener una mezcla de diferentes tipos de datos. Puedes declarar una lista de esta manera:\n",
    "\n",
    "   ```python\n",
    "   numeros = [1, 2, 3, 4, 5]\n",
    "   ```\n",
    "\n",
    "6. **Tuplas**: Las tuplas son similares a las listas, pero son inmutables, lo que significa que no pueden modificarse una vez creadas. Puedes declarar una tupla de esta manera:\n",
    "\n",
    "   ```python\n",
    "   coordenadas = (3, 4)\n",
    "   ```\n",
    "\n",
    "7. **Diccionarios**: Los diccionarios son colecciones de pares clave-valor. Puedes declarar un diccionario de esta manera:\n",
    "\n",
    "   ```python\n",
    "   estudiante = {\"nombre\": \"Ana\", \"edad\": 22, \"carrera\": \"Informática\"}\n",
    "   ```\n",
    "\n",
    "8. **Conjuntos (set)**: Los conjuntos son colecciones de elementos únicos. Puedes declarar un conjunto de esta manera:\n",
    "\n",
    "   ```python\n",
    "   colores = {\"rojo\", \"verde\", \"azul\"}\n",
    "   ```\n",
    "\n",
    "9. **None**: `None` es un tipo de dato especial que representa la ausencia de un valor. Puede ser útil para inicializar variables antes de asignarles un valor concreto.\n",
    "\n",
    "   ```python\n",
    "   resultado = None\n",
    "   ```\n",
    "\n",
    "Estos son algunos de los tipos de datos básicos en Python. Python es un lenguaje dinámicamente tipado, lo que significa que no necesitas declarar explícitamente el tipo de una variable; Python lo infiere automáticamente. Puedes reasignar variables con diferentes tipos en cualquier momento. Por ejemplo, puedes cambiar el valor de una variable de entero a cadena de texto si es necesario."
   ]
  }
 ],
 "metadata": {
  "kernelspec": {
   "display_name": "Python 3 (ipykernel)",
   "language": "python",
   "name": "python3"
  },
  "language_info": {
   "codemirror_mode": {
    "name": "ipython",
    "version": 3
   },
   "file_extension": ".py",
   "mimetype": "text/x-python",
   "name": "python",
   "nbconvert_exporter": "python",
   "pygments_lexer": "ipython3",
   "version": "3.11.5"
  }
 },
 "nbformat": 4,
 "nbformat_minor": 5
}
